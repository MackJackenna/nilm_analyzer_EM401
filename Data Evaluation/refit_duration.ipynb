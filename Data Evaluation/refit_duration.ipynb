{
 "cells": [
  {
   "cell_type": "code",
   "execution_count": 91,
   "metadata": {},
   "outputs": [],
   "source": [
    "from nilm_analyzer.loaders import REFIT_Loader\n",
    "import csv"
   ]
  },
  {
   "cell_type": "code",
   "execution_count": 92,
   "metadata": {},
   "outputs": [],
   "source": [
    "i = 3"
   ]
  },
  {
   "cell_type": "code",
   "execution_count": 93,
   "metadata": {},
   "outputs": [
    {
     "name": "stdout",
     "output_type": "stream",
     "text": [
      "Fetching the meter_appliance mapping from REFIT metadata: C:\\Users\\44749\\AppData\\Local\\Packages\\PythonSoftwareFoundation.Python.3.11_qbz5n2kfra8p0\\LocalCache\\local-packages\\Python311\\site-packages\\nilm_analyzer\\metadata\\refit\n",
      "\n",
      "Loading specified buildings: [1, 2, 3, 4, 5, 6, 7, 8, 9, 10, 11, 12, 13, 15, 16, 17, 18, 19, 20, 21]\n",
      "Dataset successfully loaded!\n"
     ]
    }
   ],
   "source": [
    "refit_data = REFIT_Loader(data_path=r'C:\\Users\\44749\\NILM\\nilm_analyzer_EM401\\refit')"
   ]
  },
  {
   "cell_type": "code",
   "execution_count": 94,
   "metadata": {},
   "outputs": [
    {
     "name": "stdout",
     "output_type": "stream",
     "text": [
      "Loading data for appliance WASHING MACHINE ...\n",
      "Fetching WASHING MACHINE data for House 3\n"
     ]
    }
   ],
   "source": [
    "appliance_data = refit_data.get_appliance_data(appliance='washing machine', houses=[i])"
   ]
  },
  {
   "cell_type": "code",
   "execution_count": 95,
   "metadata": {},
   "outputs": [
    {
     "name": "stdout",
     "output_type": "stream",
     "text": [
      "Resampling for house number:  3\n",
      "sampling_period = 6s, window_limit = 30 samples, fill_value = 0.0\n",
      "\n",
      "Updating data with resampled dataset...\n"
     ]
    }
   ],
   "source": [
    "appliance_data.resample(sampling_period= 6)"
   ]
  },
  {
   "cell_type": "code",
   "execution_count": 96,
   "metadata": {},
   "outputs": [],
   "source": [
    "out = appliance_data.data[i]"
   ]
  },
  {
   "cell_type": "code",
   "execution_count": 97,
   "metadata": {},
   "outputs": [],
   "source": [
    "out.to_csv(r'C:\\Users\\44749\\NILM\\nilm_analyzer_EM401\\Processed Data\\Load Profile Data\\Washing Machine\\R_h3_WM.csv')"
   ]
  },
  {
   "cell_type": "code",
   "execution_count": 98,
   "metadata": {},
   "outputs": [],
   "source": [
    "#appliance_data.get_activations(threshold_x=10.0, threshold_y=0.025)"
   ]
  },
  {
   "cell_type": "code",
   "execution_count": 99,
   "metadata": {},
   "outputs": [],
   "source": [
    "#a = appliance_data.activations[i].sort_values(by='duration_in_minutes', ascending=True)\n",
    "#print(a)"
   ]
  },
  {
   "cell_type": "code",
   "execution_count": 100,
   "metadata": {},
   "outputs": [],
   "source": [
    "#a.to_csv(rf'C:\\Users\\44749\\NILM\\nilm_analyzer_EM401\\Processed Data\\WM Autoencoder input\\Activations\\R_h{i}_activations.csv')"
   ]
  },
  {
   "cell_type": "code",
   "execution_count": 101,
   "metadata": {},
   "outputs": [],
   "source": [
    "#appliance_data.data[i].loc['2014-07-03 00:00:00':'2014-07-03 23:59:54'].plot(figsize=(14,7))"
   ]
  },
  {
   "cell_type": "code",
   "execution_count": 102,
   "metadata": {},
   "outputs": [],
   "source": [
    "#appliance_data.subset_data(no_of_days=1)"
   ]
  },
  {
   "cell_type": "code",
   "execution_count": 103,
   "metadata": {},
   "outputs": [],
   "source": [
    "#appliance_data.data"
   ]
  }
 ],
 "metadata": {
  "kernelspec": {
   "display_name": "Python 3",
   "language": "python",
   "name": "python3"
  },
  "language_info": {
   "codemirror_mode": {
    "name": "ipython",
    "version": 3
   },
   "file_extension": ".py",
   "mimetype": "text/x-python",
   "name": "python",
   "nbconvert_exporter": "python",
   "pygments_lexer": "ipython3",
   "version": "3.11.8"
  }
 },
 "nbformat": 4,
 "nbformat_minor": 2
}
