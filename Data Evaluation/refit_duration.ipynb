{
 "cells": [
  {
   "cell_type": "code",
   "execution_count": 1,
   "metadata": {},
   "outputs": [],
   "source": [
    "from nilm_analyzer.loaders import REFIT_Loader\n",
    "import csv"
   ]
  },
  {
   "cell_type": "code",
   "execution_count": 2,
   "metadata": {},
   "outputs": [],
   "source": [
    "i = 1"
   ]
  },
  {
   "cell_type": "code",
   "execution_count": 3,
   "metadata": {},
   "outputs": [
    {
     "name": "stdout",
     "output_type": "stream",
     "text": [
      "Fetching the meter_appliance mapping from REFIT metadata: C:\\Users\\44749\\AppData\\Local\\Packages\\PythonSoftwareFoundation.Python.3.11_qbz5n2kfra8p0\\LocalCache\\local-packages\\Python311\\site-packages\\nilm_analyzer\\metadata\\refit\n",
      "\n",
      "Loading specified buildings: [1, 2, 3, 4, 5, 6, 7, 8, 9, 10, 11, 12, 13, 15, 16, 17, 18, 19, 20, 21]\n",
      "Dataset successfully loaded!\n"
     ]
    }
   ],
   "source": [
    "refit_data = REFIT_Loader(data_path=r'C:\\Users\\44749\\NILM\\nilm_analyzer_EM401\\refit')"
   ]
  },
  {
   "cell_type": "code",
   "execution_count": 4,
   "metadata": {},
   "outputs": [
    {
     "name": "stdout",
     "output_type": "stream",
     "text": [
      "Loading data for appliance DISHWASHER ...\n",
      "Fetching DISHWASHER data for House 1\n"
     ]
    }
   ],
   "source": [
    "appliance_data = refit_data.get_appliance_data(appliance='dishwasher', houses=[i])"
   ]
  },
  {
   "cell_type": "code",
   "execution_count": 5,
   "metadata": {},
   "outputs": [
    {
     "name": "stdout",
     "output_type": "stream",
     "text": [
      "Resampling for house number:  1\n",
      "sampling_period = 8s, window_limit = 22 samples, fill_value = 0.0\n",
      "\n",
      "Updating data with resampled dataset...\n"
     ]
    }
   ],
   "source": [
    "appliance_data.resample(sampling_period= 8)"
   ]
  },
  {
   "cell_type": "code",
   "execution_count": 6,
   "metadata": {},
   "outputs": [
    {
     "data": {
      "text/plain": [
       "{1:                      aggregate  dishwasher\n",
       " time                                      \n",
       " 2013-10-09 13:06:16      523.0         0.0\n",
       " 2013-10-09 13:06:24      523.0         0.0\n",
       " 2013-10-09 13:06:32      526.0         0.0\n",
       " 2013-10-09 13:06:40      526.0         0.0\n",
       " 2013-10-09 13:06:48      540.0         0.0\n",
       " ...                        ...         ...\n",
       " 2015-07-10 11:56:00      180.0         0.0\n",
       " 2015-07-10 11:56:08      186.0         0.0\n",
       " 2015-07-10 11:56:16      181.0         0.0\n",
       " 2015-07-10 11:56:24      186.0         0.0\n",
       " 2015-07-10 11:56:32      182.0         0.0\n",
       " \n",
       " [6900678 rows x 2 columns]}"
      ]
     },
     "execution_count": 6,
     "metadata": {},
     "output_type": "execute_result"
    }
   ],
   "source": [
    "appliance_data.data"
   ]
  },
  {
   "cell_type": "code",
   "execution_count": 7,
   "metadata": {},
   "outputs": [
    {
     "name": "stdout",
     "output_type": "stream",
     "text": [
      "Extracting activations for House 1\n",
      "Consumption Threshold is set to = 0.025\n",
      "Time Delay Threshold is set to = 10.0 minutes\n",
      "Estimating active durations of: dishwasher\n",
      "Updating activations with durations when appliance is active (above threshold).\n"
     ]
    }
   ],
   "source": [
    "appliance_data.get_activations(threshold_x=10.0, threshold_y=0.025)"
   ]
  },
  {
   "cell_type": "code",
   "execution_count": 8,
   "metadata": {},
   "outputs": [
    {
     "name": "stdout",
     "output_type": "stream",
     "text": [
      "         activity_start        activity_end  duration_in_minutes\n",
      "50  2014-03-30 10:04:08 2014-03-30 10:08:32             4.400000\n",
      "151 2015-03-04 10:38:40 2015-03-04 10:44:16             5.600000\n",
      "45  2014-03-25 00:10:16 2014-03-25 00:17:12             6.933333\n",
      "47  2014-03-25 05:11:28 2014-03-25 05:22:08            10.666667\n",
      "49  2014-03-30 01:04:00 2014-03-30 01:14:48            10.800000\n",
      "..                  ...                 ...                  ...\n",
      "54  2014-04-05 11:43:44 2014-04-05 13:52:24           128.666667\n",
      "43  2014-03-07 01:56:32 2014-03-07 04:05:20           128.800000\n",
      "99  2014-10-16 03:42:40 2014-10-16 05:54:48           132.133333\n",
      "23  2013-12-16 02:28:24 2013-12-16 04:40:56           132.533333\n",
      "67  2014-06-14 12:24:48 2014-06-14 14:40:40           135.866667\n",
      "\n",
      "[185 rows x 3 columns]\n"
     ]
    }
   ],
   "source": [
    "a = appliance_data.activations[i].sort_values(by='duration_in_minutes', ascending=True)\n",
    "print(a)"
   ]
  },
  {
   "cell_type": "code",
   "execution_count": 9,
   "metadata": {},
   "outputs": [],
   "source": [
    "#a.to_csv(rf'C:\\Users\\44749\\NILM\\nilm_analyzer_EM401\\Processed Data\\WM Autoencoder input\\Activations\\R_h{i}_activations.csv')"
   ]
  },
  {
   "cell_type": "code",
   "execution_count": 10,
   "metadata": {},
   "outputs": [],
   "source": [
    "#appliance_data.data[11].loc['2015-01-20 14:57:36':'2015-01-20 16:41:36'].plot(figsize=(14,7))"
   ]
  },
  {
   "cell_type": "code",
   "execution_count": 11,
   "metadata": {},
   "outputs": [],
   "source": [
    "#appliance_data.subset_data(no_of_days=1)"
   ]
  },
  {
   "cell_type": "code",
   "execution_count": 12,
   "metadata": {},
   "outputs": [],
   "source": [
    "#appliance_data.data"
   ]
  }
 ],
 "metadata": {
  "kernelspec": {
   "display_name": "Python 3",
   "language": "python",
   "name": "python3"
  },
  "language_info": {
   "codemirror_mode": {
    "name": "ipython",
    "version": 3
   },
   "file_extension": ".py",
   "mimetype": "text/x-python",
   "name": "python",
   "nbconvert_exporter": "python",
   "pygments_lexer": "ipython3",
   "version": "3.11.8"
  }
 },
 "nbformat": 4,
 "nbformat_minor": 2
}
