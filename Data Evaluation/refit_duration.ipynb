{
 "cells": [
  {
   "cell_type": "code",
   "execution_count": 86,
   "metadata": {},
   "outputs": [],
   "source": [
    "from nilm_analyzer.loaders import REFIT_Loader"
   ]
  },
  {
   "cell_type": "code",
   "execution_count": 87,
   "metadata": {},
   "outputs": [
    {
     "name": "stdout",
     "output_type": "stream",
     "text": [
      "Fetching the meter_appliance mapping from REFIT metadata: C:\\Users\\44749\\AppData\\Local\\Packages\\PythonSoftwareFoundation.Python.3.11_qbz5n2kfra8p0\\LocalCache\\local-packages\\Python311\\site-packages\\nilm_analyzer\\metadata\\refit\n",
      "\n",
      "Loading specified buildings: [1, 2, 3, 4, 5, 6, 7, 8, 9, 10, 11, 12, 13, 15, 16, 17, 18, 19, 20, 21]\n",
      "Dataset successfully loaded!\n"
     ]
    }
   ],
   "source": [
    "refit_data = REFIT_Loader(data_path=r'C:\\Users\\44749\\NILM\\nilm_analyzer_EM401\\refit')"
   ]
  },
  {
   "cell_type": "code",
   "execution_count": 88,
   "metadata": {},
   "outputs": [
    {
     "name": "stdout",
     "output_type": "stream",
     "text": [
      "Loading data for appliance DISHWASHER ...\n",
      "Fetching DISHWASHER data for House 11\n"
     ]
    }
   ],
   "source": [
    "appliance_data = refit_data.get_appliance_data(appliance='dishwasher', houses=[11])"
   ]
  },
  {
   "cell_type": "code",
   "execution_count": 89,
   "metadata": {},
   "outputs": [
    {
     "name": "stdout",
     "output_type": "stream",
     "text": [
      "Resampling for house number:  11\n",
      "sampling_period = 8s, window_limit = 22 samples, fill_value = 0.0\n",
      "\n",
      "Updating data with resampled dataset...\n"
     ]
    }
   ],
   "source": [
    "appliance_data.resample(sampling_period= 8)"
   ]
  },
  {
   "cell_type": "code",
   "execution_count": 90,
   "metadata": {},
   "outputs": [
    {
     "data": {
      "text/plain": [
       "{11:                      aggregate  dishwasher\n",
       " time                                      \n",
       " 2014-06-03 11:36:16     1777.0         0.0\n",
       " 2014-06-03 11:36:24     1777.0         0.0\n",
       " 2014-06-03 11:36:32     1777.0         0.0\n",
       " 2014-06-03 11:36:40      888.5         0.0\n",
       " 2014-06-03 11:36:48        0.0         0.0\n",
       " ...                        ...         ...\n",
       " 2015-06-30 15:11:36     1346.0         0.0\n",
       " 2015-06-30 15:11:44     1366.0         0.0\n",
       " 2015-06-30 15:11:52     1352.0         0.0\n",
       " 2015-06-30 15:12:00     1354.0         0.0\n",
       " 2015-06-30 15:12:08     1365.0         0.0\n",
       " \n",
       " [4235220 rows x 2 columns]}"
      ]
     },
     "execution_count": 90,
     "metadata": {},
     "output_type": "execute_result"
    }
   ],
   "source": [
    "appliance_data.data"
   ]
  },
  {
   "cell_type": "code",
   "execution_count": 91,
   "metadata": {},
   "outputs": [
    {
     "name": "stdout",
     "output_type": "stream",
     "text": [
      "Extracting activations for House 11\n",
      "Consumption Threshold is set to = 0.025\n",
      "Time Delay Threshold is set to = 10.0 minutes\n",
      "Estimating active durations of: dishwasher\n",
      "Updating activations with durations when appliance is active (above threshold).\n"
     ]
    }
   ],
   "source": [
    "appliance_data.get_activations(threshold_x=10.0, threshold_y=0.025)"
   ]
  },
  {
   "cell_type": "code",
   "execution_count": 92,
   "metadata": {},
   "outputs": [
    {
     "data": {
      "text/html": [
       "<div>\n",
       "<style scoped>\n",
       "    .dataframe tbody tr th:only-of-type {\n",
       "        vertical-align: middle;\n",
       "    }\n",
       "\n",
       "    .dataframe tbody tr th {\n",
       "        vertical-align: top;\n",
       "    }\n",
       "\n",
       "    .dataframe thead th {\n",
       "        text-align: right;\n",
       "    }\n",
       "</style>\n",
       "<table border=\"1\" class=\"dataframe\">\n",
       "  <thead>\n",
       "    <tr style=\"text-align: right;\">\n",
       "      <th></th>\n",
       "      <th>activity_start</th>\n",
       "      <th>activity_end</th>\n",
       "      <th>duration_in_minutes</th>\n",
       "    </tr>\n",
       "  </thead>\n",
       "  <tbody>\n",
       "    <tr>\n",
       "      <th>26</th>\n",
       "      <td>2015-01-20 14:57:36</td>\n",
       "      <td>2015-01-20 16:41:36</td>\n",
       "      <td>104.000000</td>\n",
       "    </tr>\n",
       "    <tr>\n",
       "      <th>34</th>\n",
       "      <td>2015-03-03 14:38:24</td>\n",
       "      <td>2015-03-03 16:21:52</td>\n",
       "      <td>103.466667</td>\n",
       "    </tr>\n",
       "    <tr>\n",
       "      <th>31</th>\n",
       "      <td>2015-02-14 23:06:24</td>\n",
       "      <td>2015-02-15 00:48:32</td>\n",
       "      <td>102.133333</td>\n",
       "    </tr>\n",
       "    <tr>\n",
       "      <th>28</th>\n",
       "      <td>2015-02-02 12:35:28</td>\n",
       "      <td>2015-02-02 14:17:28</td>\n",
       "      <td>102.000000</td>\n",
       "    </tr>\n",
       "    <tr>\n",
       "      <th>61</th>\n",
       "      <td>2015-06-03 10:58:56</td>\n",
       "      <td>2015-06-03 12:40:08</td>\n",
       "      <td>101.200000</td>\n",
       "    </tr>\n",
       "    <tr>\n",
       "      <th>...</th>\n",
       "      <td>...</td>\n",
       "      <td>...</td>\n",
       "      <td>...</td>\n",
       "    </tr>\n",
       "    <tr>\n",
       "      <th>23</th>\n",
       "      <td>2014-12-31 13:57:28</td>\n",
       "      <td>2014-12-31 14:02:16</td>\n",
       "      <td>4.800000</td>\n",
       "    </tr>\n",
       "    <tr>\n",
       "      <th>50</th>\n",
       "      <td>2015-04-23 03:20:24</td>\n",
       "      <td>2015-04-23 03:24:56</td>\n",
       "      <td>4.533333</td>\n",
       "    </tr>\n",
       "    <tr>\n",
       "      <th>41</th>\n",
       "      <td>2015-04-18 16:59:52</td>\n",
       "      <td>2015-04-18 17:04:00</td>\n",
       "      <td>4.133333</td>\n",
       "    </tr>\n",
       "    <tr>\n",
       "      <th>37</th>\n",
       "      <td>2015-04-13 19:23:36</td>\n",
       "      <td>2015-04-13 19:27:28</td>\n",
       "      <td>3.866667</td>\n",
       "    </tr>\n",
       "    <tr>\n",
       "      <th>49</th>\n",
       "      <td>2015-04-23 02:01:44</td>\n",
       "      <td>2015-04-23 02:04:56</td>\n",
       "      <td>3.200000</td>\n",
       "    </tr>\n",
       "  </tbody>\n",
       "</table>\n",
       "<p>63 rows × 3 columns</p>\n",
       "</div>"
      ],
      "text/plain": [
       "        activity_start        activity_end  duration_in_minutes\n",
       "26 2015-01-20 14:57:36 2015-01-20 16:41:36           104.000000\n",
       "34 2015-03-03 14:38:24 2015-03-03 16:21:52           103.466667\n",
       "31 2015-02-14 23:06:24 2015-02-15 00:48:32           102.133333\n",
       "28 2015-02-02 12:35:28 2015-02-02 14:17:28           102.000000\n",
       "61 2015-06-03 10:58:56 2015-06-03 12:40:08           101.200000\n",
       "..                 ...                 ...                  ...\n",
       "23 2014-12-31 13:57:28 2014-12-31 14:02:16             4.800000\n",
       "50 2015-04-23 03:20:24 2015-04-23 03:24:56             4.533333\n",
       "41 2015-04-18 16:59:52 2015-04-18 17:04:00             4.133333\n",
       "37 2015-04-13 19:23:36 2015-04-13 19:27:28             3.866667\n",
       "49 2015-04-23 02:01:44 2015-04-23 02:04:56             3.200000\n",
       "\n",
       "[63 rows x 3 columns]"
      ]
     },
     "execution_count": 92,
     "metadata": {},
     "output_type": "execute_result"
    }
   ],
   "source": [
    "appliance_data.activations[11].sort_values(by='duration_in_minutes', ascending=False)"
   ]
  },
  {
   "cell_type": "code",
   "execution_count": 93,
   "metadata": {},
   "outputs": [
    {
     "data": {
      "text/plain": [
       "<Axes: xlabel='time'>"
      ]
     },
     "execution_count": 93,
     "metadata": {},
     "output_type": "execute_result"
    },
    {
     "data": {
      "image/png": "[encoded data removed]",
      "text/plain": [
       "<Figure size 1400x700 with 1 Axes>"
      ]
     },
     "metadata": {},
     "output_type": "display_data"
    }
   ],
   "source": [
    "appliance_data.data[11].loc['2015-04-23 02:01:44':'2015-04-23 02:04:56'].plot(figsize=(14,7))"
   ]
  },
  {
   "cell_type": "code",
   "execution_count": 94,
   "metadata": {},
   "outputs": [
    {
     "name": "stdout",
     "output_type": "stream",
     "text": [
      "Subetting dataset with 1 days of data for House 11\n",
      "Updating data with selected active appliance activities...\n"
     ]
    }
   ],
   "source": [
    "appliance_data.subset_data(no_of_days=1)"
   ]
  },
  {
   "cell_type": "code",
   "execution_count": 95,
   "metadata": {},
   "outputs": [
    {
     "data": {
      "text/plain": [
       "{11:                      aggregate  dishwasher\n",
       " time                                      \n",
       " 2014-06-03 11:36:16     1777.0         0.0\n",
       " 2014-06-03 11:36:24     1777.0         0.0\n",
       " 2014-06-03 11:36:32     1777.0         0.0\n",
       " 2014-06-03 11:36:40      888.5         0.0\n",
       " 2014-06-03 11:36:48        0.0         0.0\n",
       " ...                        ...         ...\n",
       " 2014-06-04 11:35:44      891.0         0.0\n",
       " 2014-06-04 11:35:52      880.0         0.0\n",
       " 2014-06-04 11:36:00      880.0         0.0\n",
       " 2014-06-04 11:36:08      875.0         0.0\n",
       " 2014-06-04 11:36:16      875.0         0.0\n",
       " \n",
       " [10801 rows x 2 columns]}"
      ]
     },
     "execution_count": 95,
     "metadata": {},
     "output_type": "execute_result"
    }
   ],
   "source": [
    "appliance_data.data"
   ]
  }
 ],
 "metadata": {
  "kernelspec": {
   "display_name": "Python 3",
   "language": "python",
   "name": "python3"
  },
  "language_info": {
   "codemirror_mode": {
    "name": "ipython",
    "version": 3
   },
   "file_extension": ".py",
   "mimetype": "text/x-python",
   "name": "python",
   "nbconvert_exporter": "python",
   "pygments_lexer": "ipython3",
   "version": "3.11.6"
  }
 },
 "nbformat": 4,
 "nbformat_minor": 2
}
