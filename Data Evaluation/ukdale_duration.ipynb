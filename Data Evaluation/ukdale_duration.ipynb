{
 "cells": [
  {
   "cell_type": "code",
   "execution_count": 124,
   "metadata": {},
   "outputs": [],
   "source": [
    "from nilm_analyzer.loaders import UKDALE_Loader\n",
    "from matplotlib import pyplot as plt\n",
    "import pandas as pd"
   ]
  },
  {
   "cell_type": "code",
   "execution_count": 125,
   "metadata": {},
   "outputs": [
    {
     "name": "stdout",
     "output_type": "stream",
     "text": [
      "Fetching the meter_appliance mapping from UKDALE metadata: C:\\Users\\44749\\AppData\\Local\\Packages\\PythonSoftwareFoundation.Python.3.11_qbz5n2kfra8p0\\LocalCache\\local-packages\\Python311\\site-packages\\nilm_analyzer\\metadata\\ukdale\n",
      "\n",
      "Loading specified buildings: [1, 2, 3, 4, 5]\n",
      "Dataset successfully loaded!\n"
     ]
    }
   ],
   "source": [
    "ukdale_data = UKDALE_Loader(data_path=r'C:\\Users\\44749\\NILM\\nilm_analyzer_EM401\\UKDALE')"
   ]
  },
  {
   "cell_type": "code",
   "execution_count": 126,
   "metadata": {},
   "outputs": [
    {
     "name": "stdout",
     "output_type": "stream",
     "text": [
      "Loading data for appliance WASHING_MACHINE ...\n",
      "Fetching WASHING_MACHINE data for House 1\n"
     ]
    }
   ],
   "source": [
    "appliance_data = ukdale_data.get_appliance_data(appliance='washing_machine', houses=[1])"
   ]
  },
  {
   "cell_type": "code",
   "execution_count": 127,
   "metadata": {},
   "outputs": [
    {
     "name": "stdout",
     "output_type": "stream",
     "text": [
      "Resampling for house number:  1\n",
      "sampling_period = 6s, window_limit = 30 samples, fill_value = 0.0\n",
      "\n",
      "Updating data with resampled dataset...\n"
     ]
    }
   ],
   "source": [
    "appliance_data.resample(sampling_period= 6)"
   ]
  },
  {
   "cell_type": "code",
   "execution_count": 128,
   "metadata": {},
   "outputs": [],
   "source": [
    "out = appliance_data.data[1]"
   ]
  },
  {
   "cell_type": "code",
   "execution_count": 129,
   "metadata": {},
   "outputs": [],
   "source": [
    "out.to_csv(r'C:\\Users\\44749\\NILM\\nilm_analyzer_EM401\\Processed Data\\Load Profile Data\\UK_h1_WM.csv')"
   ]
  },
  {
   "cell_type": "code",
   "execution_count": 130,
   "metadata": {},
   "outputs": [],
   "source": [
    "#appliance_data.get_activations(threshold_x=10.0, threshold_y=0.05)"
   ]
  },
  {
   "cell_type": "code",
   "execution_count": 131,
   "metadata": {},
   "outputs": [],
   "source": [
    "#table = appliance_data.activations[5].sort_values(by='activity_start', ascending=True)\n",
    "#print(table)"
   ]
  },
  {
   "cell_type": "code",
   "execution_count": 132,
   "metadata": {},
   "outputs": [],
   "source": [
    "#table.drop(table.index[810:-1], inplace = True)\n"
   ]
  },
  {
   "cell_type": "code",
   "execution_count": 133,
   "metadata": {},
   "outputs": [],
   "source": [
    "#table.drop(table.index[-1], inplace = True)"
   ]
  },
  {
   "cell_type": "code",
   "execution_count": 134,
   "metadata": {},
   "outputs": [],
   "source": [
    "#table.to_csv(r'C:\\Users\\44749\\NILM\\nilm_analyzer_EM401\\Processed Data\\DW Activations Useable\\Activations\\UK_h1_activations.csv')"
   ]
  },
  {
   "cell_type": "code",
   "execution_count": 135,
   "metadata": {},
   "outputs": [],
   "source": [
    "#appliance_data.data[1].loc['2014-08-01 00:00:00':'2014-08-01 23:59:59'].plot(figsize=(14,7), xlabel= 'Time', ylabel=('Power [W]'), title=('Part Day Load Profile of a Dishwasher - UKDALE House 5 - 25/10/2014'))\n"
   ]
  },
  {
   "cell_type": "code",
   "execution_count": 136,
   "metadata": {},
   "outputs": [],
   "source": [
    "#appliance_data.subset_data(no_of_days=1)"
   ]
  },
  {
   "cell_type": "code",
   "execution_count": 137,
   "metadata": {},
   "outputs": [],
   "source": [
    "#a = appliance_data.data"
   ]
  },
  {
   "cell_type": "code",
   "execution_count": 138,
   "metadata": {},
   "outputs": [],
   "source": [
    "#a.to_csv(r'C:\\Users\\44749\\NILM\\nilm_analyzer_EM401\\Data Evaluation\\test.csv', index=False)"
   ]
  },
  {
   "cell_type": "code",
   "execution_count": null,
   "metadata": {},
   "outputs": [],
   "source": []
  }
 ],
 "metadata": {
  "kernelspec": {
   "display_name": "Python 3",
   "language": "python",
   "name": "python3"
  },
  "language_info": {
   "codemirror_mode": {
    "name": "ipython",
    "version": 3
   },
   "file_extension": ".py",
   "mimetype": "text/x-python",
   "name": "python",
   "nbconvert_exporter": "python",
   "pygments_lexer": "ipython3",
   "version": "3.11.8"
  }
 },
 "nbformat": 4,
 "nbformat_minor": 2
}
