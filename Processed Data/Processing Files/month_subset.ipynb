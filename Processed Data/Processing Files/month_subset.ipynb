{
 "cells": [
  {
   "cell_type": "code",
   "execution_count": 1,
   "metadata": {},
   "outputs": [],
   "source": [
    "import pandas as pd\n",
    "import numpy as np\n",
    "import time\n",
    "import calendar \n",
    "import datetime"
   ]
  },
  {
   "cell_type": "code",
   "execution_count": 2,
   "metadata": {},
   "outputs": [],
   "source": [
    "#Read the formatted UKDALE house mains CSV into a pandas Dataframe.\n",
    "df = pd.read_csv(r'C:\\Users\\44749\\NILM\\nilm_analyzer_EM401\\Processed Data\\UKDALE Mains Data\\h5_mains_formatted.csv', index_col=0, header=[0,1])"
   ]
  },
  {
   "cell_type": "code",
   "execution_count": 3,
   "metadata": {},
   "outputs": [
    {
     "data": {
      "text/html": [
       "<div>\n",
       "<style scoped>\n",
       "    .dataframe tbody tr th:only-of-type {\n",
       "        vertical-align: middle;\n",
       "    }\n",
       "\n",
       "    .dataframe tbody tr th {\n",
       "        vertical-align: top;\n",
       "    }\n",
       "\n",
       "    .dataframe thead tr th {\n",
       "        text-align: left;\n",
       "    }\n",
       "\n",
       "    .dataframe thead tr:last-of-type th {\n",
       "        text-align: right;\n",
       "    }\n",
       "</style>\n",
       "<table border=\"1\" class=\"dataframe\">\n",
       "  <thead>\n",
       "    <tr>\n",
       "      <th>physical_quantity</th>\n",
       "      <th colspan=\"3\" halign=\"left\">power</th>\n",
       "    </tr>\n",
       "    <tr>\n",
       "      <th>type</th>\n",
       "      <th>apparent</th>\n",
       "      <th>active</th>\n",
       "      <th>reactive</th>\n",
       "    </tr>\n",
       "    <tr>\n",
       "      <th>index</th>\n",
       "      <th></th>\n",
       "      <th></th>\n",
       "      <th></th>\n",
       "    </tr>\n",
       "  </thead>\n",
       "  <tbody>\n",
       "    <tr>\n",
       "      <th>1.404059e+09</th>\n",
       "      <td>805.69</td>\n",
       "      <td>702.57</td>\n",
       "      <td>394.37515</td>\n",
       "    </tr>\n",
       "    <tr>\n",
       "      <th>1.404059e+09</th>\n",
       "      <td>803.02</td>\n",
       "      <td>697.15</td>\n",
       "      <td>398.52600</td>\n",
       "    </tr>\n",
       "    <tr>\n",
       "      <th>1.404059e+09</th>\n",
       "      <td>797.65</td>\n",
       "      <td>689.04</td>\n",
       "      <td>401.83264</td>\n",
       "    </tr>\n",
       "    <tr>\n",
       "      <th>1.404059e+09</th>\n",
       "      <td>801.12</td>\n",
       "      <td>693.41</td>\n",
       "      <td>401.21796</td>\n",
       "    </tr>\n",
       "    <tr>\n",
       "      <th>1.404059e+09</th>\n",
       "      <td>803.49</td>\n",
       "      <td>701.05</td>\n",
       "      <td>392.58768</td>\n",
       "    </tr>\n",
       "  </tbody>\n",
       "</table>\n",
       "</div>"
      ],
      "text/plain": [
       "physical_quantity    power                   \n",
       "type              apparent  active   reactive\n",
       "index                                        \n",
       "1.404059e+09        805.69  702.57  394.37515\n",
       "1.404059e+09        803.02  697.15  398.52600\n",
       "1.404059e+09        797.65  689.04  401.83264\n",
       "1.404059e+09        801.12  693.41  401.21796\n",
       "1.404059e+09        803.49  701.05  392.58768"
      ]
     },
     "execution_count": 3,
     "metadata": {},
     "output_type": "execute_result"
    }
   ],
   "source": [
    "df.head()"
   ]
  },
  {
   "cell_type": "code",
   "execution_count": 4,
   "metadata": {},
   "outputs": [],
   "source": [
    "#Subset the date by manually finding the corresponding UNIX timestamps of the required dates.\n",
    "h5_2014_july = df.loc[1404169200.6:1406847599.1]"
   ]
  },
  {
   "cell_type": "code",
   "execution_count": 5,
   "metadata": {},
   "outputs": [
    {
     "data": {
      "text/html": [
       "<div>\n",
       "<style scoped>\n",
       "    .dataframe tbody tr th:only-of-type {\n",
       "        vertical-align: middle;\n",
       "    }\n",
       "\n",
       "    .dataframe tbody tr th {\n",
       "        vertical-align: top;\n",
       "    }\n",
       "\n",
       "    .dataframe thead tr th {\n",
       "        text-align: left;\n",
       "    }\n",
       "\n",
       "    .dataframe thead tr:last-of-type th {\n",
       "        text-align: right;\n",
       "    }\n",
       "</style>\n",
       "<table border=\"1\" class=\"dataframe\">\n",
       "  <thead>\n",
       "    <tr>\n",
       "      <th>physical_quantity</th>\n",
       "      <th colspan=\"3\" halign=\"left\">power</th>\n",
       "    </tr>\n",
       "    <tr>\n",
       "      <th>type</th>\n",
       "      <th>apparent</th>\n",
       "      <th>active</th>\n",
       "      <th>reactive</th>\n",
       "    </tr>\n",
       "    <tr>\n",
       "      <th>index</th>\n",
       "      <th></th>\n",
       "      <th></th>\n",
       "      <th></th>\n",
       "    </tr>\n",
       "  </thead>\n",
       "  <tbody>\n",
       "    <tr>\n",
       "      <th>1.404169e+09</th>\n",
       "      <td>803.12</td>\n",
       "      <td>689.03</td>\n",
       "      <td>412.60074</td>\n",
       "    </tr>\n",
       "    <tr>\n",
       "      <th>1.404169e+09</th>\n",
       "      <td>813.15</td>\n",
       "      <td>697.99</td>\n",
       "      <td>417.16052</td>\n",
       "    </tr>\n",
       "    <tr>\n",
       "      <th>1.404169e+09</th>\n",
       "      <td>812.35</td>\n",
       "      <td>697.59</td>\n",
       "      <td>416.26993</td>\n",
       "    </tr>\n",
       "    <tr>\n",
       "      <th>1.404169e+09</th>\n",
       "      <td>802.82</td>\n",
       "      <td>688.11</td>\n",
       "      <td>413.55120</td>\n",
       "    </tr>\n",
       "    <tr>\n",
       "      <th>1.404169e+09</th>\n",
       "      <td>797.66</td>\n",
       "      <td>683.21</td>\n",
       "      <td>411.68616</td>\n",
       "    </tr>\n",
       "  </tbody>\n",
       "</table>\n",
       "</div>"
      ],
      "text/plain": [
       "physical_quantity    power                   \n",
       "type              apparent  active   reactive\n",
       "index                                        \n",
       "1.404169e+09        803.12  689.03  412.60074\n",
       "1.404169e+09        813.15  697.99  417.16052\n",
       "1.404169e+09        812.35  697.59  416.26993\n",
       "1.404169e+09        802.82  688.11  413.55120\n",
       "1.404169e+09        797.66  683.21  411.68616"
      ]
     },
     "execution_count": 5,
     "metadata": {},
     "output_type": "execute_result"
    }
   ],
   "source": [
    "h5_2014_july.head()"
   ]
  },
  {
   "cell_type": "code",
   "execution_count": 6,
   "metadata": {},
   "outputs": [],
   "source": [
    "#Convert the datadrame to a useable CSV file.\n",
    "h5_2014_july.to_csv(r'C:\\Users\\44749\\NILM\\nilm_analyzer_EM401\\Processed Data\\UKDALE Mains Data\\h5_2024_july.csv')"
   ]
  },
  {
   "cell_type": "code",
   "execution_count": null,
   "metadata": {},
   "outputs": [],
   "source": []
  }
 ],
 "metadata": {
  "kernelspec": {
   "display_name": "Python 3",
   "language": "python",
   "name": "python3"
  },
  "language_info": {
   "codemirror_mode": {
    "name": "ipython",
    "version": 3
   },
   "file_extension": ".py",
   "mimetype": "text/x-python",
   "name": "python",
   "nbconvert_exporter": "python",
   "pygments_lexer": "ipython3",
   "version": "3.11.8"
  }
 },
 "nbformat": 4,
 "nbformat_minor": 2
}
