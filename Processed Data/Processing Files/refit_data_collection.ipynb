{
 "cells": [
  {
   "cell_type": "code",
   "execution_count": 13,
   "metadata": {},
   "outputs": [],
   "source": [
    "from nilm_analyzer.loaders import REFIT_Loader\n",
    "import csv\n",
    "import pandas as pd \n",
    "import matplotlib as plt\n",
    "import numpy as np"
   ]
  },
  {
   "cell_type": "code",
   "execution_count": 23,
   "metadata": {},
   "outputs": [],
   "source": [
    "house = [7]\n",
    "app = 'washing machine'"
   ]
  },
  {
   "cell_type": "code",
   "execution_count": 24,
   "metadata": {},
   "outputs": [
    {
     "name": "stdout",
     "output_type": "stream",
     "text": [
      "Fetching the meter_appliance mapping from REFIT metadata: C:\\Users\\44749\\AppData\\Local\\Packages\\PythonSoftwareFoundation.Python.3.11_qbz5n2kfra8p0\\LocalCache\\local-packages\\Python311\\site-packages\\nilm_analyzer\\metadata\\refit\n",
      "\n",
      "Loading specified buildings: [1, 2, 3, 4, 5, 6, 7, 8, 9, 10, 11, 12, 13, 15, 16, 17, 18, 19, 20, 21]\n",
      "Dataset successfully loaded!\n"
     ]
    }
   ],
   "source": [
    "refit_data = REFIT_Loader(data_path=r'C:\\Users\\44749\\NILM\\nilm_analyzer_EM401\\refit')"
   ]
  },
  {
   "cell_type": "code",
   "execution_count": 25,
   "metadata": {},
   "outputs": [
    {
     "name": "stdout",
     "output_type": "stream",
     "text": [
      "Loading data for appliance WASHING MACHINE ...\n",
      "Fetching WASHING MACHINE data for House 7\n"
     ]
    }
   ],
   "source": [
    "appliance_data = refit_data.get_appliance_data(appliance='{}'.format(app), houses= house)"
   ]
  },
  {
   "cell_type": "code",
   "execution_count": 26,
   "metadata": {},
   "outputs": [
    {
     "name": "stdout",
     "output_type": "stream",
     "text": [
      "Resampling for house number:  7\n",
      "sampling_period = 6s, window_limit = 30 samples, fill_value = 0.0\n",
      "\n",
      "Updating data with resampled dataset...\n"
     ]
    }
   ],
   "source": [
    "appliance_data.resample(sampling_period= 6)"
   ]
  },
  {
   "cell_type": "code",
   "execution_count": 27,
   "metadata": {},
   "outputs": [],
   "source": [
    "a = appliance_data.data[7]"
   ]
  },
  {
   "cell_type": "code",
   "execution_count": 28,
   "metadata": {},
   "outputs": [],
   "source": [
    "a.to_csv(r'C:\\Users\\44749\\NILM\\nilm_analyzer_EM401\\Processed Data\\Load Profile Data\\R_h7_WM.csv')"
   ]
  },
  {
   "cell_type": "code",
   "execution_count": 11,
   "metadata": {},
   "outputs": [
    {
     "name": "stdout",
     "output_type": "stream",
     "text": [
      "Extracting activations for House 1\n",
      "Consumption Threshold is set to = 10\n",
      "Time Delay Threshold is set to = 2 minutes\n",
      "Estimating active durations of: dishwasher\n",
      "Extracting activations for House 5\n",
      "Consumption Threshold is set to = 10\n",
      "Time Delay Threshold is set to = 2 minutes\n",
      "Estimating active durations of: dishwasher\n",
      "Updating activations with durations when appliance is active (above threshold).\n"
     ]
    }
   ],
   "source": [
    "appliance_data.get_activations(threshold_x=2, threshold_y=10, min_limit=10)"
   ]
  },
  {
   "cell_type": "code",
   "execution_count": 12,
   "metadata": {},
   "outputs": [
    {
     "ename": "KeyError",
     "evalue": "2",
     "output_type": "error",
     "traceback": [
      "\u001b[1;31m---------------------------------------------------------------------------\u001b[0m",
      "\u001b[1;31mKeyError\u001b[0m                                  Traceback (most recent call last)",
      "Cell \u001b[1;32mIn[12], line 2\u001b[0m\n\u001b[0;32m      1\u001b[0m h1 \u001b[38;5;241m=\u001b[39m appliance_data\u001b[38;5;241m.\u001b[39mactivations[\u001b[38;5;241m1\u001b[39m]\u001b[38;5;241m.\u001b[39msort_values(by\u001b[38;5;241m=\u001b[39m\u001b[38;5;124m'\u001b[39m\u001b[38;5;124mduration_in_minutes\u001b[39m\u001b[38;5;124m'\u001b[39m, ascending \u001b[38;5;241m=\u001b[39m \u001b[38;5;28;01mTrue\u001b[39;00m)\n\u001b[1;32m----> 2\u001b[0m h2 \u001b[38;5;241m=\u001b[39m \u001b[43mappliance_data\u001b[49m\u001b[38;5;241;43m.\u001b[39;49m\u001b[43mactivations\u001b[49m\u001b[43m[\u001b[49m\u001b[38;5;241;43m2\u001b[39;49m\u001b[43m]\u001b[49m\u001b[38;5;241m.\u001b[39msort_values(by\u001b[38;5;241m=\u001b[39m\u001b[38;5;124m'\u001b[39m\u001b[38;5;124mduration_in_minutes\u001b[39m\u001b[38;5;124m'\u001b[39m, ascending \u001b[38;5;241m=\u001b[39m \u001b[38;5;28;01mTrue\u001b[39;00m)\n\u001b[0;32m      3\u001b[0m h5 \u001b[38;5;241m=\u001b[39m appliance_data\u001b[38;5;241m.\u001b[39mactivations[\u001b[38;5;241m5\u001b[39m]\u001b[38;5;241m.\u001b[39msort_values(by\u001b[38;5;241m=\u001b[39m\u001b[38;5;124m'\u001b[39m\u001b[38;5;124mduration_in_minutes\u001b[39m\u001b[38;5;124m'\u001b[39m, ascending \u001b[38;5;241m=\u001b[39m \u001b[38;5;28;01mTrue\u001b[39;00m)\n\u001b[0;32m      4\u001b[0m h6 \u001b[38;5;241m=\u001b[39m appliance_data\u001b[38;5;241m.\u001b[39mactivations[\u001b[38;5;241m6\u001b[39m]\u001b[38;5;241m.\u001b[39msort_values(by\u001b[38;5;241m=\u001b[39m\u001b[38;5;124m'\u001b[39m\u001b[38;5;124mduration_in_minutes\u001b[39m\u001b[38;5;124m'\u001b[39m, ascending \u001b[38;5;241m=\u001b[39m \u001b[38;5;28;01mTrue\u001b[39;00m)\n",
      "\u001b[1;31mKeyError\u001b[0m: 2"
     ]
    }
   ],
   "source": [
    "\n",
    "h1 = appliance_data.activations[1].sort_values(by='duration_in_minutes', ascending = True)\n",
    "h2 = appliance_data.activations[2].sort_values(by='duration_in_minutes', ascending = True)\n",
    "h5 = appliance_data.activations[5].sort_values(by='duration_in_minutes', ascending = True)\n",
    "h6 = appliance_data.activations[6].sort_values(by='duration_in_minutes', ascending = True)\n",
    "h7 = appliance_data.activations[7].sort_values(by='duration_in_minutes', ascending = True)\n",
    "h8 = appliance_data.activations[8].sort_values(by='duration_in_minutes', ascending = True)\n",
    "h9 = appliance_data.activations[9].sort_values(by='duration_in_minutes', ascending = True)\n",
    "h10 = appliance_data.activations[10].sort_values(by='duration_in_minutes', ascending = True)\n",
    "h13 = appliance_data.activations[13].sort_values(by='duration_in_minutes', ascending = True)\n",
    "h15 = appliance_data.activations[15].sort_values(by='duration_in_minutes', ascending = True)\n",
    "h16 = appliance_data.activations[16].sort_values(by='duration_in_minutes', ascending = True)\n",
    "h17 = appliance_data.activations[17].sort_values(by='duration_in_minutes', ascending = True)\n",
    "h18 = appliance_data.activations[18].sort_values(by='duration_in_minutes', ascending = True)\n",
    "h19 = appliance_data.activations[19].sort_values(by='duration_in_minutes', ascending = True)\n",
    "h20 = appliance_data.activations[20].sort_values(by='duration_in_minutes', ascending = True)\n",
    "frames = [h1, h2, h5, h6, h7, h8, h9, h10, h13, h15, h16, h17, h18, h19, h20]\n"
   ]
  },
  {
   "cell_type": "code",
   "execution_count": null,
   "metadata": {},
   "outputs": [],
   "source": [
    "df = pd.concat(frames)"
   ]
  },
  {
   "cell_type": "code",
   "execution_count": null,
   "metadata": {},
   "outputs": [],
   "source": [
    "#df.to_csv(r'C:\\Users\\44749\\NILM\\nilm_analyzer_EM401\\Processed Data\\Duration and Time of use\\refit_washingmachine_activations.csv')"
   ]
  },
  {
   "cell_type": "code",
   "execution_count": null,
   "metadata": {},
   "outputs": [],
   "source": []
  }
 ],
 "metadata": {
  "kernelspec": {
   "display_name": "Python 3",
   "language": "python",
   "name": "python3"
  },
  "language_info": {
   "codemirror_mode": {
    "name": "ipython",
    "version": 3
   },
   "file_extension": ".py",
   "mimetype": "text/x-python",
   "name": "python",
   "nbconvert_exporter": "python",
   "pygments_lexer": "ipython3",
   "version": "3.11.8"
  }
 },
 "nbformat": 4,
 "nbformat_minor": 2
}
