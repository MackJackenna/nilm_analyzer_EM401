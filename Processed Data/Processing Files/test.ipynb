{
 "cells": [
  {
   "cell_type": "code",
   "execution_count": 2,
   "metadata": {},
   "outputs": [],
   "source": [
    "import pandas as pd \n",
    "import numpy as np\n",
    "import datetime as dt"
   ]
  },
  {
   "cell_type": "code",
   "execution_count": 3,
   "metadata": {},
   "outputs": [],
   "source": [
    "dfm = pd.read_csv(r'C:\\Users\\44749\\NILM\\nilm_analyzer_EM401\\Processed Data\\Dishwasher Activations\\h5_blank_matrix.csv', index_col = 0)\n",
    "dfa = pd.read_csv(r'C:\\Users\\44749\\NILM\\nilm_analyzer_EM401\\Processed Data\\Dishwasher Activations\\h5_DW_activations.csv', index_col = 0)\n",
    "starttime = []\n",
    "date = []\n",
    "endtime = []\n",
    "i = 0\n",
    "j = 0\n",
    "k = 0"
   ]
  },
  {
   "cell_type": "code",
   "execution_count": 4,
   "metadata": {},
   "outputs": [],
   "source": [
    "dfa['activity_start'] = pd.to_datetime(dfa['activity_start'])\n",
    "dfa['activity_end'] = pd.to_datetime(dfa['activity_end'])"
   ]
  },
  {
   "cell_type": "code",
   "execution_count": 19,
   "metadata": {},
   "outputs": [],
   "source": [
    "while i < len(dfa):\n",
    "    a = dfa.iloc[i]['activity_start']\n",
    "    b = a.time()\n",
    "    c = a.date()\n",
    "    starttime.append(b)\n",
    "    date.append(c)\n",
    "    i += 1\n",
    "\n",
    "while j < len(dfa):\n",
    "    a = dfa.iloc[j]['activity_end']\n",
    "    b = a.time()\n",
    "    c = a.date()\n",
    "    endtime.append(b)\n",
    "    j += 1\n",
    "\n",
    "dfstarttime = pd.DataFrame(starttime).astype(str)\n",
    "dfendtime = pd.DataFrame(endtime).astype(str)\n",
    "dfdate = pd.DataFrame(date).astype(str)\n",
    "\n",
    "while k < len(dfa):\n",
    "    dfm.loc[dfdate.iloc[k,0], dfstarttime.iloc[k,0]:dfendtime.iloc[k,0]] = 1\n",
    "    k += 1"
   ]
  },
  {
   "cell_type": "code",
   "execution_count": 18,
   "metadata": {},
   "outputs": [],
   "source": [
    "dfm.to_csv(r'C:\\Users\\44749\\NILM\\nilm_analyzer_EM401\\Processed Data\\Dishwasher Activations\\please.csv')"
   ]
  },
  {
   "cell_type": "code",
   "execution_count": null,
   "metadata": {},
   "outputs": [],
   "source": []
  }
 ],
 "metadata": {
  "kernelspec": {
   "display_name": "Python 3",
   "language": "python",
   "name": "python3"
  },
  "language_info": {
   "codemirror_mode": {
    "name": "ipython",
    "version": 3
   },
   "file_extension": ".py",
   "mimetype": "text/x-python",
   "name": "python",
   "nbconvert_exporter": "python",
   "pygments_lexer": "ipython3",
   "version": "3.11.8"
  }
 },
 "nbformat": 4,
 "nbformat_minor": 2
}
