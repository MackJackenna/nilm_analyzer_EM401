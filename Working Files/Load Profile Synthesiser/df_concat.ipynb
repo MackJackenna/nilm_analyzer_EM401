{
 "cells": [
  {
   "cell_type": "code",
   "execution_count": 1,
   "metadata": {},
   "outputs": [],
   "source": [
    "import pandas as pd"
   ]
  },
  {
   "cell_type": "code",
   "execution_count": 81,
   "metadata": {},
   "outputs": [],
   "source": [
    "#Read formatted UKDALE data CSV to pandas Dataframe.\n",
    "#Washing machine data loading\n",
    "UK_WMh1 = pd.read_csv(r'...path...\\nilm_analyzer_EM401\\Large Data\\Load Profile Data\\UK_h1_WM_formatted.csv', index_col=1)\n",
    "R_WMh7 = pd.read_csv(r'...path...\\nilm_analyzer_EM401\\Large Data\\Load Profile Data\\R_h7_WM_formatted.csv', index_col=1)\n",
    "R_WMh1 = pd.read_csv(r'...path...\\nilm_analyzer_EM401\\Large Data\\Load Profile Data\\R_h1_WM_formatted.csv', index_col=1)\n",
    "R_WMh5 = pd.read_csv(r'...path...\\nilm_analyzer_EM401\\Large Data\\Load Profile Data\\R_h5_WM_formatted.csv', index_col=1)\n",
    "#Dishwasher data loading\n",
    "UK_DWh1 = pd.read_csv(r'...path...\\nilm_analyzer_EM401\\Large Data\\Load Profile Data\\UK_h1_DW_formatted.csv', index_col=1)\n",
    "UK_DWh5 = pd.read_csv(r'...path...\\nilm_analyzer_EM401\\Large Data\\Load Profile Data\\UK_h5_DW_formatted.csv', index_col=1)\n",
    "R_DWh1 = pd.read_csv(r'...path...\\nilm_analyzer_EM401\\Large Data\\Load Profile Data\\R_h1_DW_formatted.csv', index_col=1)\n",
    "R_DWh5 = pd.read_csv(r'...path...\\nilm_analyzer_EM401\\Large Data\\Load Profile Data\\R_h5_DW_formatted.csv', index_col=1)"
   ]
  },
  {
   "cell_type": "code",
   "execution_count": 82,
   "metadata": {},
   "outputs": [
    {
     "data": {
      "text/html": [
       "<div>\n",
       "<style scoped>\n",
       "    .dataframe tbody tr th:only-of-type {\n",
       "        vertical-align: middle;\n",
       "    }\n",
       "\n",
       "    .dataframe tbody tr th {\n",
       "        vertical-align: top;\n",
       "    }\n",
       "\n",
       "    .dataframe thead th {\n",
       "        text-align: right;\n",
       "    }\n",
       "</style>\n",
       "<table border=\"1\" class=\"dataframe\">\n",
       "  <thead>\n",
       "    <tr style=\"text-align: right;\">\n",
       "      <th></th>\n",
       "      <th>Unnamed: 0</th>\n",
       "      <th>aggregate</th>\n",
       "      <th>washing machine</th>\n",
       "    </tr>\n",
       "    <tr>\n",
       "      <th>time</th>\n",
       "      <th></th>\n",
       "      <th></th>\n",
       "      <th></th>\n",
       "    </tr>\n",
       "  </thead>\n",
       "  <tbody>\n",
       "    <tr>\n",
       "      <th>1.404169e+09</th>\n",
       "      <td>0</td>\n",
       "      <td>191.0</td>\n",
       "      <td>0.0</td>\n",
       "    </tr>\n",
       "    <tr>\n",
       "      <th>1.404169e+09</th>\n",
       "      <td>1</td>\n",
       "      <td>190.0</td>\n",
       "      <td>0.0</td>\n",
       "    </tr>\n",
       "    <tr>\n",
       "      <th>1.404169e+09</th>\n",
       "      <td>2</td>\n",
       "      <td>190.0</td>\n",
       "      <td>0.0</td>\n",
       "    </tr>\n",
       "    <tr>\n",
       "      <th>1.404169e+09</th>\n",
       "      <td>3</td>\n",
       "      <td>189.0</td>\n",
       "      <td>0.0</td>\n",
       "    </tr>\n",
       "    <tr>\n",
       "      <th>1.404169e+09</th>\n",
       "      <td>4</td>\n",
       "      <td>188.0</td>\n",
       "      <td>0.0</td>\n",
       "    </tr>\n",
       "  </tbody>\n",
       "</table>\n",
       "</div>"
      ],
      "text/plain": [
       "              Unnamed: 0  aggregate  washing machine\n",
       "time                                                \n",
       "1.404169e+09           0      191.0              0.0\n",
       "1.404169e+09           1      190.0              0.0\n",
       "1.404169e+09           2      190.0              0.0\n",
       "1.404169e+09           3      189.0              0.0\n",
       "1.404169e+09           4      188.0              0.0"
      ]
     },
     "execution_count": 82,
     "metadata": {},
     "output_type": "execute_result"
    }
   ],
   "source": [
    "R_WMh7.head()"
   ]
  },
  {
   "cell_type": "code",
   "execution_count": 83,
   "metadata": {},
   "outputs": [],
   "source": [
    "UK_WMh1.drop(columns = 'Unnamed: 0', inplace = True)\n",
    "R_WMh7.drop(columns = 'Unnamed: 0', inplace = True)\n",
    "R_WMh1.drop(columns = 'Unnamed: 0', inplace = True)\n",
    "R_WMh5.drop(columns = 'Unnamed: 0', inplace = True)\n",
    "\n",
    "UK_DWh1.drop(columns = 'Unnamed: 0', inplace = True)\n",
    "UK_DWh5.drop(columns = 'Unnamed: 0', inplace = True)\n",
    "R_DWh1.drop(columns = 'Unnamed: 0', inplace = True)\n",
    "R_DWh5.drop(columns = 'Unnamed: 0', inplace = True)"
   ]
  },
  {
   "cell_type": "code",
   "execution_count": 84,
   "metadata": {},
   "outputs": [],
   "source": [
    "R_WMh1.rename(columns = {'washing machine':'washing_machine'}, inplace= True)\n",
    "R_WMh5.rename(columns = {'washing machine':'washing_machine'}, inplace= True)\n",
    "R_WMh7.rename(columns = {'washing machine':'washing_machine'}, inplace= True)"
   ]
  },
  {
   "cell_type": "code",
   "execution_count": 85,
   "metadata": {},
   "outputs": [
    {
     "data": {
      "text/html": [
       "<div>\n",
       "<style scoped>\n",
       "    .dataframe tbody tr th:only-of-type {\n",
       "        vertical-align: middle;\n",
       "    }\n",
       "\n",
       "    .dataframe tbody tr th {\n",
       "        vertical-align: top;\n",
       "    }\n",
       "\n",
       "    .dataframe thead th {\n",
       "        text-align: right;\n",
       "    }\n",
       "</style>\n",
       "<table border=\"1\" class=\"dataframe\">\n",
       "  <thead>\n",
       "    <tr style=\"text-align: right;\">\n",
       "      <th></th>\n",
       "      <th>aggregate</th>\n",
       "      <th>washing_machine</th>\n",
       "    </tr>\n",
       "    <tr>\n",
       "      <th>time</th>\n",
       "      <th></th>\n",
       "      <th></th>\n",
       "    </tr>\n",
       "  </thead>\n",
       "  <tbody>\n",
       "    <tr>\n",
       "      <th>1.404169e+09</th>\n",
       "      <td>245.0</td>\n",
       "      <td>0.0</td>\n",
       "    </tr>\n",
       "    <tr>\n",
       "      <th>1.404169e+09</th>\n",
       "      <td>242.0</td>\n",
       "      <td>0.0</td>\n",
       "    </tr>\n",
       "    <tr>\n",
       "      <th>1.404169e+09</th>\n",
       "      <td>242.0</td>\n",
       "      <td>0.0</td>\n",
       "    </tr>\n",
       "    <tr>\n",
       "      <th>1.404169e+09</th>\n",
       "      <td>245.0</td>\n",
       "      <td>0.0</td>\n",
       "    </tr>\n",
       "    <tr>\n",
       "      <th>1.404169e+09</th>\n",
       "      <td>245.0</td>\n",
       "      <td>0.0</td>\n",
       "    </tr>\n",
       "  </tbody>\n",
       "</table>\n",
       "</div>"
      ],
      "text/plain": [
       "              aggregate  washing_machine\n",
       "time                                    \n",
       "1.404169e+09      245.0              0.0\n",
       "1.404169e+09      242.0              0.0\n",
       "1.404169e+09      242.0              0.0\n",
       "1.404169e+09      245.0              0.0\n",
       "1.404169e+09      245.0              0.0"
      ]
     },
     "execution_count": 85,
     "metadata": {},
     "output_type": "execute_result"
    }
   ],
   "source": [
    "R_WMh1.head()"
   ]
  },
  {
   "cell_type": "code",
   "execution_count": 86,
   "metadata": {},
   "outputs": [],
   "source": [
    "#Establishes frames to concatenate.\n",
    "framesWM = [UK_WMh1, R_WMh1, R_WMh5, R_WMh7]\n",
    "framesDW = [UK_DWh1, UK_DWh5, R_DWh1, R_DWh5]"
   ]
  },
  {
   "cell_type": "code",
   "execution_count": 87,
   "metadata": {},
   "outputs": [],
   "source": [
    "#Concatenates the frames with keys correseponding to the house data sets taken from.\n",
    "WM_concat = pd.concat(framesWM)\n",
    "DW_concat = pd.concat(framesDW)"
   ]
  },
  {
   "cell_type": "code",
   "execution_count": 88,
   "metadata": {},
   "outputs": [
    {
     "data": {
      "text/plain": [
       "(1785600, 2)"
      ]
     },
     "execution_count": 88,
     "metadata": {},
     "output_type": "execute_result"
    }
   ],
   "source": [
    "DW_concat.shape"
   ]
  },
  {
   "cell_type": "code",
   "execution_count": 89,
   "metadata": {},
   "outputs": [
    {
     "data": {
      "text/plain": [
       "(1785600, 2)"
      ]
     },
     "execution_count": 89,
     "metadata": {},
     "output_type": "execute_result"
    }
   ],
   "source": [
    "WM_concat.shape"
   ]
  },
  {
   "cell_type": "code",
   "execution_count": 90,
   "metadata": {},
   "outputs": [],
   "source": [
    "#Converts Dataframe to CSV.\n",
    "WM_concat.to_csv(r'...path...\\nilm_analyzer_EM401\\Large Data\\Load Profile Data\\UK1_R1-5-7_WM_july_2014.csv')\n",
    "DW_concat.to_csv(r'...path...\\nilm_analyzer_EM401\\Large Data\\Load Profile Data\\UK1-5_R1-5-7_DW_july_2014.csv')"
   ]
  },
  {
   "cell_type": "code",
   "execution_count": 91,
   "metadata": {},
   "outputs": [],
   "source": [
    "temp = pd.DataFrame(WM_concat['washing_machine'])"
   ]
  },
  {
   "cell_type": "code",
   "execution_count": 92,
   "metadata": {},
   "outputs": [],
   "source": [
    "framesagg = [DW_concat,temp]"
   ]
  },
  {
   "cell_type": "code",
   "execution_count": 95,
   "metadata": {},
   "outputs": [],
   "source": [
    "agg = pd.concat([DW_concat, temp], axis = 1)"
   ]
  },
  {
   "cell_type": "code",
   "execution_count": 96,
   "metadata": {},
   "outputs": [
    {
     "data": {
      "text/html": [
       "<div>\n",
       "<style scoped>\n",
       "    .dataframe tbody tr th:only-of-type {\n",
       "        vertical-align: middle;\n",
       "    }\n",
       "\n",
       "    .dataframe tbody tr th {\n",
       "        vertical-align: top;\n",
       "    }\n",
       "\n",
       "    .dataframe thead th {\n",
       "        text-align: right;\n",
       "    }\n",
       "</style>\n",
       "<table border=\"1\" class=\"dataframe\">\n",
       "  <thead>\n",
       "    <tr style=\"text-align: right;\">\n",
       "      <th></th>\n",
       "      <th>aggregate</th>\n",
       "      <th>dishwasher</th>\n",
       "      <th>washing_machine</th>\n",
       "    </tr>\n",
       "    <tr>\n",
       "      <th>time</th>\n",
       "      <th></th>\n",
       "      <th></th>\n",
       "      <th></th>\n",
       "    </tr>\n",
       "  </thead>\n",
       "  <tbody>\n",
       "    <tr>\n",
       "      <th>1.404169e+09</th>\n",
       "      <td>213.0</td>\n",
       "      <td>0.0</td>\n",
       "      <td>0.0</td>\n",
       "    </tr>\n",
       "    <tr>\n",
       "      <th>1.404169e+09</th>\n",
       "      <td>216.0</td>\n",
       "      <td>0.0</td>\n",
       "      <td>0.0</td>\n",
       "    </tr>\n",
       "    <tr>\n",
       "      <th>1.404169e+09</th>\n",
       "      <td>216.0</td>\n",
       "      <td>0.0</td>\n",
       "      <td>0.0</td>\n",
       "    </tr>\n",
       "    <tr>\n",
       "      <th>1.404169e+09</th>\n",
       "      <td>214.0</td>\n",
       "      <td>0.0</td>\n",
       "      <td>0.0</td>\n",
       "    </tr>\n",
       "    <tr>\n",
       "      <th>1.404169e+09</th>\n",
       "      <td>217.0</td>\n",
       "      <td>1.0</td>\n",
       "      <td>0.0</td>\n",
       "    </tr>\n",
       "  </tbody>\n",
       "</table>\n",
       "</div>"
      ],
      "text/plain": [
       "              aggregate  dishwasher  washing_machine\n",
       "time                                                \n",
       "1.404169e+09      213.0         0.0              0.0\n",
       "1.404169e+09      216.0         0.0              0.0\n",
       "1.404169e+09      216.0         0.0              0.0\n",
       "1.404169e+09      214.0         0.0              0.0\n",
       "1.404169e+09      217.0         1.0              0.0"
      ]
     },
     "execution_count": 96,
     "metadata": {},
     "output_type": "execute_result"
    }
   ],
   "source": [
    "agg.head()"
   ]
  },
  {
   "cell_type": "code",
   "execution_count": 97,
   "metadata": {},
   "outputs": [],
   "source": [
    "agg = agg.reindex(columns=['dishwasher', 'washing_machine', 'aggregate'])"
   ]
  },
  {
   "cell_type": "code",
   "execution_count": 99,
   "metadata": {},
   "outputs": [
    {
     "data": {
      "text/html": [
       "<div>\n",
       "<style scoped>\n",
       "    .dataframe tbody tr th:only-of-type {\n",
       "        vertical-align: middle;\n",
       "    }\n",
       "\n",
       "    .dataframe tbody tr th {\n",
       "        vertical-align: top;\n",
       "    }\n",
       "\n",
       "    .dataframe thead th {\n",
       "        text-align: right;\n",
       "    }\n",
       "</style>\n",
       "<table border=\"1\" class=\"dataframe\">\n",
       "  <thead>\n",
       "    <tr style=\"text-align: right;\">\n",
       "      <th></th>\n",
       "      <th>dishwasher</th>\n",
       "      <th>washing_machine</th>\n",
       "      <th>aggregate</th>\n",
       "    </tr>\n",
       "    <tr>\n",
       "      <th>time</th>\n",
       "      <th></th>\n",
       "      <th></th>\n",
       "      <th></th>\n",
       "    </tr>\n",
       "  </thead>\n",
       "  <tbody>\n",
       "    <tr>\n",
       "      <th>1.404169e+09</th>\n",
       "      <td>0.0</td>\n",
       "      <td>0.0</td>\n",
       "      <td>213.0</td>\n",
       "    </tr>\n",
       "    <tr>\n",
       "      <th>1.404169e+09</th>\n",
       "      <td>0.0</td>\n",
       "      <td>0.0</td>\n",
       "      <td>216.0</td>\n",
       "    </tr>\n",
       "    <tr>\n",
       "      <th>1.404169e+09</th>\n",
       "      <td>0.0</td>\n",
       "      <td>0.0</td>\n",
       "      <td>216.0</td>\n",
       "    </tr>\n",
       "    <tr>\n",
       "      <th>1.404169e+09</th>\n",
       "      <td>0.0</td>\n",
       "      <td>0.0</td>\n",
       "      <td>214.0</td>\n",
       "    </tr>\n",
       "    <tr>\n",
       "      <th>1.404169e+09</th>\n",
       "      <td>1.0</td>\n",
       "      <td>0.0</td>\n",
       "      <td>217.0</td>\n",
       "    </tr>\n",
       "  </tbody>\n",
       "</table>\n",
       "</div>"
      ],
      "text/plain": [
       "              dishwasher  washing_machine  aggregate\n",
       "time                                                \n",
       "1.404169e+09         0.0              0.0      213.0\n",
       "1.404169e+09         0.0              0.0      216.0\n",
       "1.404169e+09         0.0              0.0      216.0\n",
       "1.404169e+09         0.0              0.0      214.0\n",
       "1.404169e+09         1.0              0.0      217.0"
      ]
     },
     "execution_count": 99,
     "metadata": {},
     "output_type": "execute_result"
    }
   ],
   "source": [
    "agg.head()"
   ]
  },
  {
   "cell_type": "code",
   "execution_count": 100,
   "metadata": {},
   "outputs": [],
   "source": [
    "agg.to_csv(r'...path...\\nilm_analyzer_EM401\\Large Data\\Load Profile Data\\UK_R_agg_july_2014.csv')"
   ]
  },
  {
   "cell_type": "code",
   "execution_count": null,
   "metadata": {},
   "outputs": [],
   "source": []
  }
 ],
 "metadata": {
  "kernelspec": {
   "display_name": "Python 3",
   "language": "python",
   "name": "python3"
  },
  "language_info": {
   "codemirror_mode": {
    "name": "ipython",
    "version": 3
   },
   "file_extension": ".py",
   "mimetype": "text/x-python",
   "name": "python",
   "nbconvert_exporter": "python",
   "pygments_lexer": "ipython3",
   "version": "3.11.8"
  }
 },
 "nbformat": 4,
 "nbformat_minor": 2
}
