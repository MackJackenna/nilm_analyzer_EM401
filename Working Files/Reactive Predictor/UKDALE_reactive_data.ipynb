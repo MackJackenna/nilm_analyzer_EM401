{
 "cells": [
  {
   "cell_type": "markdown",
   "id": "9e717dd9",
   "metadata": {},
   "source": [
    "This file was used within the NILMTK conda envrionment and won't run here. The associated reactive power files are found in '...path...\\nilm_analyzer_EM401\\Large Data\\Reactive Power Mains Data\\'."
   ]
  },
  {
   "cell_type": "code",
   "execution_count": 1,
   "id": "c7d4f182-6bab-4127-9962-a10007f24b4a",
   "metadata": {},
   "outputs": [],
   "source": [
    "from nilmtk import DataSet\n",
    "from nilmtk.utils import print_dict\n",
    "from __future__ import print_function, division\n",
    "import time\n",
    "import calendar \n",
    "import datetime\n",
    "\n",
    "from matplotlib import rcParams\n",
    "import matplotlib.pyplot as plt\n",
    "import pandas as pd\n",
    "import numpy as np\n",
    "from six import iteritems\n",
    "\n",
    "import nilmtk\n",
    "from nilmtk import DataSet, TimeFrame, MeterGroup, HDFDataStore\n",
    "from nilmtk.legacy.disaggregate import CombinatorialOptimisation, FHMM\n",
    "import nilmtk.utils\n",
    "\n",
    "%matplotlib inline\n",
    "\n"
   ]
  },
  {
   "cell_type": "code",
   "execution_count": 2,
   "id": "38c6e79d-4c01-4942-a71d-d04fd22b9e93",
   "metadata": {},
   "outputs": [],
   "source": [
    "ukdale = DataSet('/mnt/c/Users/44749/NILM/nilm_toolkit/nilmtk/nilmtk_tests/ukdale.h5')"
   ]
  },
  {
   "cell_type": "code",
   "execution_count": 3,
   "id": "13a3dd3d-5861-4a35-b49f-01e116e42dfe",
   "metadata": {},
   "outputs": [],
   "source": [
    "h1_elec = ukdale.buildings[1].elec\n",
    "h2_elec = ukdale.buildings[2].elec\n",
    "h5_elec = ukdale.buildings[5].elec"
   ]
  },
  {
   "cell_type": "code",
   "execution_count": 4,
   "id": "3eab0a1a-c8ad-4143-b35f-d2d467ec3b22",
   "metadata": {},
   "outputs": [],
   "source": [
    "h1_mains = h1_elec.mains()\n",
    "h2_mains = h2_elec.mains()\n",
    "h5_mains = h5_elec.mains()"
   ]
  },
  {
   "cell_type": "code",
   "execution_count": 5,
   "id": "c53c61c8-f553-45dd-9d82-811d9ba6ab10",
   "metadata": {},
   "outputs": [],
   "source": [
    "h1_mains_df = next(h1_mains.load())\n",
    "h2_mains_df = next(h2_mains.load())\n",
    "h5_mains_df = next(h5_mains.load())"
   ]
  },
  {
   "cell_type": "code",
   "execution_count": 6,
   "id": "89542e27-2846-4a3c-8173-45948a21a263",
   "metadata": {},
   "outputs": [
    {
     "name": "stderr",
     "output_type": "stream",
     "text": [
      "/root/anaconda3/envs/nilmtk-env/lib/python3.8/site-packages/pandas/core/generic.py:3946: PerformanceWarning: dropping on a non-lexsorted multi-index without a level parameter may impact performance.\n",
      "  new_axis = axis.drop(labels, errors=errors)\n"
     ]
    }
   ],
   "source": [
    "h1_mains_df = h1_mains_df.drop(columns=['voltage'])\n",
    "h2_mains_df = h2_mains_df.drop(columns=['voltage'])\n",
    "h5_mains_df = h5_mains_df.drop(columns=['voltage'])"
   ]
  },
  {
   "cell_type": "code",
   "execution_count": 7,
   "id": "5a0461e7-a4c5-41fc-bf33-2818ba3f02b4",
   "metadata": {},
   "outputs": [],
   "source": [
    "h1_apparent = h1_mains_df[\"power\",\"apparent\"]\n",
    "h1_active = h1_mains_df[\"power\", \"active\"]\n",
    "\n",
    "h2_apparent = h2_mains_df[\"power\",\"apparent\"]\n",
    "h2_active = h2_mains_df[\"power\", \"active\"]\n",
    "\n",
    "h5_apparent = h5_mains_df[\"power\",\"apparent\"]\n",
    "h5_active = h5_mains_df[\"power\", \"active\"]"
   ]
  },
  {
   "cell_type": "code",
   "execution_count": 8,
   "id": "b8637235-2b18-4550-b4a6-2127ae7d531c",
   "metadata": {},
   "outputs": [],
   "source": [
    "h1_reactive = np.sqrt(np.square(h1_apparent) - np.square(h1_active))\n",
    "h2_reactive = np.sqrt(np.square(h2_apparent) - np.square(h2_active))\n",
    "h5_reactive = np.sqrt(np.square(h5_apparent) - np.square(h5_active))"
   ]
  },
  {
   "cell_type": "code",
   "execution_count": 9,
   "id": "6bd41152-d29a-4565-a1af-b36e80c338a4",
   "metadata": {},
   "outputs": [],
   "source": [
    "h1_mains_df['power','reactive'] = h1_reactive\n",
    "h2_mains_df['power','reactive'] = h2_reactive\n",
    "h5_mains_df['power','reactive'] = h5_reactive"
   ]
  },
  {
   "cell_type": "code",
   "execution_count": 10,
   "id": "f9b2301a-459e-4535-8129-7b7ea9ce87e0",
   "metadata": {},
   "outputs": [
    {
     "data": {
      "text/html": [
       "<div>\n",
       "<style scoped>\n",
       "    .dataframe tbody tr th:only-of-type {\n",
       "        vertical-align: middle;\n",
       "    }\n",
       "\n",
       "    .dataframe tbody tr th {\n",
       "        vertical-align: top;\n",
       "    }\n",
       "\n",
       "    .dataframe thead tr th {\n",
       "        text-align: left;\n",
       "    }\n",
       "</style>\n",
       "<table border=\"1\" class=\"dataframe\">\n",
       "  <thead>\n",
       "    <tr>\n",
       "      <th>physical_quantity</th>\n",
       "      <th colspan=\"3\" halign=\"left\">power</th>\n",
       "    </tr>\n",
       "    <tr>\n",
       "      <th>type</th>\n",
       "      <th>apparent</th>\n",
       "      <th>active</th>\n",
       "      <th>reactive</th>\n",
       "    </tr>\n",
       "  </thead>\n",
       "  <tbody>\n",
       "    <tr>\n",
       "      <th>2013-03-17 19:12:43.100000+00:00</th>\n",
       "      <td>431.040009</td>\n",
       "      <td>337.880005</td>\n",
       "      <td>267.642639</td>\n",
       "    </tr>\n",
       "    <tr>\n",
       "      <th>2013-03-17 19:12:44.100000+00:00</th>\n",
       "      <td>427.940002</td>\n",
       "      <td>339.429993</td>\n",
       "      <td>260.614502</td>\n",
       "    </tr>\n",
       "    <tr>\n",
       "      <th>2013-03-17 19:12:45.100000+00:00</th>\n",
       "      <td>429.660004</td>\n",
       "      <td>340.630005</td>\n",
       "      <td>261.875763</td>\n",
       "    </tr>\n",
       "    <tr>\n",
       "      <th>2013-03-17 19:12:46.100000+00:00</th>\n",
       "      <td>426.989990</td>\n",
       "      <td>338.799988</td>\n",
       "      <td>259.875000</td>\n",
       "    </tr>\n",
       "    <tr>\n",
       "      <th>2013-03-17 19:12:47.100000+00:00</th>\n",
       "      <td>429.130005</td>\n",
       "      <td>340.880005</td>\n",
       "      <td>260.678711</td>\n",
       "    </tr>\n",
       "  </tbody>\n",
       "</table>\n",
       "</div>"
      ],
      "text/plain": [
       "physical_quantity                      power                        \n",
       "type                                apparent      active    reactive\n",
       "2013-03-17 19:12:43.100000+00:00  431.040009  337.880005  267.642639\n",
       "2013-03-17 19:12:44.100000+00:00  427.940002  339.429993  260.614502\n",
       "2013-03-17 19:12:45.100000+00:00  429.660004  340.630005  261.875763\n",
       "2013-03-17 19:12:46.100000+00:00  426.989990  338.799988  259.875000\n",
       "2013-03-17 19:12:47.100000+00:00  429.130005  340.880005  260.678711"
      ]
     },
     "execution_count": 10,
     "metadata": {},
     "output_type": "execute_result"
    }
   ],
   "source": [
    "h1_mains_df.head()"
   ]
  },
  {
   "cell_type": "code",
   "execution_count": 11,
   "id": "3272e6bc-1eb9-48d7-a5c5-2fa2f7d601e2",
   "metadata": {},
   "outputs": [
    {
     "data": {
      "text/html": [
       "<div>\n",
       "<style scoped>\n",
       "    .dataframe tbody tr th:only-of-type {\n",
       "        vertical-align: middle;\n",
       "    }\n",
       "\n",
       "    .dataframe tbody tr th {\n",
       "        vertical-align: top;\n",
       "    }\n",
       "\n",
       "    .dataframe thead tr th {\n",
       "        text-align: left;\n",
       "    }\n",
       "</style>\n",
       "<table border=\"1\" class=\"dataframe\">\n",
       "  <thead>\n",
       "    <tr>\n",
       "      <th>physical_quantity</th>\n",
       "      <th colspan=\"3\" halign=\"left\">power</th>\n",
       "    </tr>\n",
       "    <tr>\n",
       "      <th>type</th>\n",
       "      <th>apparent</th>\n",
       "      <th>active</th>\n",
       "      <th>reactive</th>\n",
       "    </tr>\n",
       "  </thead>\n",
       "  <tbody>\n",
       "    <tr>\n",
       "      <th>2013-04-16 21:45:16.300000+01:00</th>\n",
       "      <td>421.529999</td>\n",
       "      <td>0.0</td>\n",
       "      <td>421.529999</td>\n",
       "    </tr>\n",
       "    <tr>\n",
       "      <th>2013-04-16 21:45:17.300000+01:00</th>\n",
       "      <td>421.769989</td>\n",
       "      <td>0.0</td>\n",
       "      <td>421.769989</td>\n",
       "    </tr>\n",
       "    <tr>\n",
       "      <th>2013-04-16 21:45:18.300000+01:00</th>\n",
       "      <td>420.410004</td>\n",
       "      <td>0.0</td>\n",
       "      <td>420.410004</td>\n",
       "    </tr>\n",
       "    <tr>\n",
       "      <th>2013-04-16 21:45:19.300000+01:00</th>\n",
       "      <td>421.670013</td>\n",
       "      <td>0.0</td>\n",
       "      <td>421.670013</td>\n",
       "    </tr>\n",
       "    <tr>\n",
       "      <th>2013-04-16 21:45:20.300000+01:00</th>\n",
       "      <td>420.970001</td>\n",
       "      <td>0.0</td>\n",
       "      <td>420.970001</td>\n",
       "    </tr>\n",
       "  </tbody>\n",
       "</table>\n",
       "</div>"
      ],
      "text/plain": [
       "physical_quantity                      power                   \n",
       "type                                apparent active    reactive\n",
       "2013-04-16 21:45:16.300000+01:00  421.529999    0.0  421.529999\n",
       "2013-04-16 21:45:17.300000+01:00  421.769989    0.0  421.769989\n",
       "2013-04-16 21:45:18.300000+01:00  420.410004    0.0  420.410004\n",
       "2013-04-16 21:45:19.300000+01:00  421.670013    0.0  421.670013\n",
       "2013-04-16 21:45:20.300000+01:00  420.970001    0.0  420.970001"
      ]
     },
     "execution_count": 11,
     "metadata": {},
     "output_type": "execute_result"
    }
   ],
   "source": [
    "h2_mains_df.head()"
   ]
  },
  {
   "cell_type": "code",
   "execution_count": 12,
   "id": "59c94fab-b5f6-4bab-8e16-0e7b24b47eff",
   "metadata": {},
   "outputs": [
    {
     "data": {
      "text/html": [
       "<div>\n",
       "<style scoped>\n",
       "    .dataframe tbody tr th:only-of-type {\n",
       "        vertical-align: middle;\n",
       "    }\n",
       "\n",
       "    .dataframe tbody tr th {\n",
       "        vertical-align: top;\n",
       "    }\n",
       "\n",
       "    .dataframe thead tr th {\n",
       "        text-align: left;\n",
       "    }\n",
       "</style>\n",
       "<table border=\"1\" class=\"dataframe\">\n",
       "  <thead>\n",
       "    <tr>\n",
       "      <th>physical_quantity</th>\n",
       "      <th colspan=\"3\" halign=\"left\">power</th>\n",
       "    </tr>\n",
       "    <tr>\n",
       "      <th>type</th>\n",
       "      <th>apparent</th>\n",
       "      <th>active</th>\n",
       "      <th>reactive</th>\n",
       "    </tr>\n",
       "  </thead>\n",
       "  <tbody>\n",
       "    <tr>\n",
       "      <th>2014-06-29 17:23:43.200000+01:00</th>\n",
       "      <td>805.690002</td>\n",
       "      <td>702.570007</td>\n",
       "      <td>394.375153</td>\n",
       "    </tr>\n",
       "    <tr>\n",
       "      <th>2014-06-29 17:23:44.300000+01:00</th>\n",
       "      <td>803.020020</td>\n",
       "      <td>697.150024</td>\n",
       "      <td>398.526001</td>\n",
       "    </tr>\n",
       "    <tr>\n",
       "      <th>2014-06-29 17:23:45.300000+01:00</th>\n",
       "      <td>797.650024</td>\n",
       "      <td>689.039978</td>\n",
       "      <td>401.832642</td>\n",
       "    </tr>\n",
       "    <tr>\n",
       "      <th>2014-06-29 17:23:46.300000+01:00</th>\n",
       "      <td>801.119995</td>\n",
       "      <td>693.409973</td>\n",
       "      <td>401.217957</td>\n",
       "    </tr>\n",
       "    <tr>\n",
       "      <th>2014-06-29 17:23:47.300000+01:00</th>\n",
       "      <td>803.489990</td>\n",
       "      <td>701.049988</td>\n",
       "      <td>392.587677</td>\n",
       "    </tr>\n",
       "  </tbody>\n",
       "</table>\n",
       "</div>"
      ],
      "text/plain": [
       "physical_quantity                      power                        \n",
       "type                                apparent      active    reactive\n",
       "2014-06-29 17:23:43.200000+01:00  805.690002  702.570007  394.375153\n",
       "2014-06-29 17:23:44.300000+01:00  803.020020  697.150024  398.526001\n",
       "2014-06-29 17:23:45.300000+01:00  797.650024  689.039978  401.832642\n",
       "2014-06-29 17:23:46.300000+01:00  801.119995  693.409973  401.217957\n",
       "2014-06-29 17:23:47.300000+01:00  803.489990  701.049988  392.587677"
      ]
     },
     "execution_count": 12,
     "metadata": {},
     "output_type": "execute_result"
    }
   ],
   "source": [
    "h5_mains_df.head()"
   ]
  },
  {
   "cell_type": "code",
   "execution_count": 13,
   "id": "de577be6-e114-455d-9d61-b8b3a0291b02",
   "metadata": {},
   "outputs": [],
   "source": [
    "#h1_mains_df.to_csv('h1_mains.csv', index= True)"
   ]
  },
  {
   "cell_type": "code",
   "execution_count": 14,
   "id": "bab67105-791a-4379-b3be-8b841ea5e3ec",
   "metadata": {},
   "outputs": [],
   "source": [
    "#h2_mains_df.to_csv('h2_mains.csv', index= True)"
   ]
  },
  {
   "cell_type": "code",
   "execution_count": 15,
   "id": "6391b48c-dc36-4418-bf41-43027539981e",
   "metadata": {},
   "outputs": [],
   "source": [
    "#h5_mains_df.to_csv('h5_mains.csv', index= True)"
   ]
  },
  {
   "cell_type": "code",
   "execution_count": null,
   "id": "c17cab2c-69e1-487a-88eb-e4e7160ea82c",
   "metadata": {},
   "outputs": [],
   "source": []
  }
 ],
 "metadata": {
  "kernelspec": {
   "display_name": "Python 3 (ipykernel)",
   "language": "python",
   "name": "python3"
  },
  "language_info": {
   "codemirror_mode": {
    "name": "ipython",
    "version": 3
   },
   "file_extension": ".py",
   "mimetype": "text/x-python",
   "name": "python",
   "nbconvert_exporter": "python",
   "pygments_lexer": "ipython3",
   "version": "3.8.18"
  }
 },
 "nbformat": 4,
 "nbformat_minor": 5
}
